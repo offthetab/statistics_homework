{
  "nbformat": 4,
  "nbformat_minor": 0,
  "metadata": {
    "colab": {
      "provenance": [],
      "authorship_tag": "ABX9TyPUL0ROY939N+aMscUA0/8T",
      "include_colab_link": true
    },
    "kernelspec": {
      "name": "python3",
      "display_name": "Python 3"
    },
    "language_info": {
      "name": "python"
    }
  },
  "cells": [
    {
      "cell_type": "markdown",
      "metadata": {
        "id": "view-in-github",
        "colab_type": "text"
      },
      "source": [
        "<a href=\"https://colab.research.google.com/github/offthetab/statistics_homework/blob/main/%D0%9F%D0%A0_2.ipynb\" target=\"_parent\"><img src=\"https://colab.research.google.com/assets/colab-badge.svg\" alt=\"Open In Colab\"/></a>"
      ]
    },
    {
      "cell_type": "markdown",
      "source": [
        "Для выполнения практического задания необходимо:\n",
        "1. Открыть папку, соотвествующую своей группе.\n",
        "2. Открыть папку с вариантом, совпадающим с вашим номером в списке.\n",
        "В папке 4 файла с данными. Для каждого из файлов необходимо:\n",
        "  *   Рассчитать точечные оценки мат. ожидания (генерального среднего) и среднеквадратического отклонения.\n",
        "  *   Для этих же параметров рассчитать доверительные интервалы с надежностью 0.95. При рассчете доверительного интервала для мат. ожидания использовать\n",
        "  2 метода для ВСЕХ файлов: с помощью t-распределения и с помощью нормального распределения.\n",
        "\n",
        "3. Оформить отчет по проделанно работе. В отчете указать соответвующие оценки и формулы их получения.\n",
        "4. После предварительной защиты работы будут выданы истинные значения параметров распределения. Необходимо будет в выводе отразить, попали ли они в доверительные интервалы."
      ],
      "metadata": {
        "id": "jJQ_c3uO3wL3"
      }
    },
    {
      "cell_type": "markdown",
      "source": [
        "![image.png](data:image/png;base64,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)"
      ],
      "metadata": {
        "id": "ZPf0jrWxXld6"
      }
    },
    {
      "cell_type": "markdown",
      "source": [
        "Выборка длины 100:\n",
        "  \n",
        "α = 0.05\n",
        "\n",
        "x_lower = α / 2 => X2 0.025 = 128,422\n",
        "\n",
        "x_upper = 1 - α / 2 => x2 0.975 = 73,3611\n",
        "\n",
        "\n",
        "Выборка длины 10:\n",
        "\n",
        "alpha = 0.05\n",
        "\n",
        "x_lower = α / 2 => X2 0.025 = 19,0223\n",
        "\n",
        "x_upper = 1 - α / 2 => x2 0.975 = 2,7004"
      ],
      "metadata": {
        "id": "0nEattNsarxn"
      }
    },
    {
      "cell_type": "code",
      "source": [
        "#Вариант 4"
      ],
      "metadata": {
        "id": "lCBaE6Zp3xSw"
      },
      "execution_count": null,
      "outputs": []
    },
    {
      "cell_type": "code",
      "source": [
        "import numpy as np"
      ],
      "metadata": {
        "id": "rVP5WwUZ9q3b"
      },
      "execution_count": null,
      "outputs": []
    },
    {
      "cell_type": "code",
      "source": [
        "# функция для чтения файла\n",
        "def open_file(path: str):\n",
        "  with open(path, 'r') as f:\n",
        "    data = f.read()\n",
        "  data = np.array(data.split(\"\\n\"))[:-1]\n",
        "  data = data.astype(np.float64)\n",
        "  return data\n",
        "\n",
        "def result(dataa):\n",
        "  L = 1.96  # 2Ф(x) = 0.95 => Ф(x) = 0.475 => L=1.96  значения функции Лапласа\n",
        "\n",
        "  if len(data) == 100:  # число степеней свободы 99\n",
        "    t = 1.9842  # t-распределения Стьюдента\n",
        "\n",
        "    # Хи-квадрат распределение\n",
        "    x_lower = 128.431 # Xi alpha = 0.025\n",
        "    x_upper = 73.3611 # Xi alpha = 0.975\n",
        "\n",
        "  elif len(data) == 10: # число степеней свободы 9\n",
        "    t = 2.2622  # t-распределения Стьюдента\n",
        "\n",
        "    # Хи-квадрат распределение\n",
        "    x_lower = 19.0228 # Xi alpha = 0.025\n",
        "    x_upper = 2.7004  # Xi alpha = 0.975\n",
        "\n",
        "  n = len(data)\n",
        "  # Точечная оценка мат. ожидания\n",
        "  expected_value = np.mean(data)\n",
        "  print(\"Генеральное среднее:\", expected_value)\n",
        "\n",
        "  # Стандартное отклонение\n",
        "  standart_deviation = np.sqrt(1 / (n-1) * sum((data - expected_value) ** 2)) # корень из несмещенной дисперсии\n",
        "  print(\"Среднеквадратичное отклонение\", standart_deviation)\n",
        "\n",
        "  # Найти границы доверительного интервала мат. ожидания по правилу нормального\n",
        "  # распределения, используя таблицу критических значений функции Лапласа Ф при 𝛾 = 0.95\n",
        "  lower = expected_value - L * standart_deviation / (n ** 0.5)\n",
        "  upper = expected_value + L * standart_deviation / (n ** 0.5)\n",
        "  Confidence_interval = [lower, upper]\n",
        "  print(\"Доверительный интервал с надежностью 0.95:\", Confidence_interval)\n",
        "\n",
        "  # Найти границы доверительного интервала мат. ожидания с помощью t-распределения Стьюдента,\n",
        "  # используя таблицу критических значений значении уверенности 𝛾 = 0.95\n",
        "  lower = expected_value - t * standart_deviation / (n ** 0.5)\n",
        "  upper = expected_value + t * standart_deviation / (n ** 0.5)\n",
        "  Confidence_interval = [lower, upper]\n",
        "  print(\"Доверительный интервал по правилу t-распределения:\", Confidence_interval)\n",
        "\n",
        "  # Расчёт доверительного интервала интервала стандартного отклонения\n",
        "  # число степеней свободы 99\n",
        "  lower = standart_deviation * (n - 1) ** 0.5 / x_lower ** 0.5\n",
        "  upper = standart_deviation * (n - 1) ** 0.5 / x_upper ** 0.5\n",
        "  Confidence_interval = [lower, upper]\n",
        "  print(\"Доверительный интервал для среднеквадратического отклонения:\", Confidence_interval)"
      ],
      "metadata": {
        "id": "2No-t0an-pL2"
      },
      "execution_count": null,
      "outputs": []
    },
    {
      "cell_type": "code",
      "source": [
        "data = open_file('1.txt')\n",
        "result(data)"
      ],
      "metadata": {
        "colab": {
          "base_uri": "https://localhost:8080/"
        },
        "id": "mQiWLFs9AZzV",
        "outputId": "12a72f41-4458-471d-c60c-60e528e56b43"
      },
      "execution_count": null,
      "outputs": [
        {
          "output_type": "stream",
          "name": "stdout",
          "text": [
            "Генеральное среднее: 58.95724777651844\n",
            "Среднеквадратичное отклонение 7.7104149619231075\n",
            "Доверительный интервал с надежностью 0.95: [57.44600644398152, 60.46848910905537]\n",
            "Доверительный интервал по правилу t-распределения: [57.42734723977366, 60.487148313263226]\n",
            "Доверительный интервал для среднеквадратического отклонения: [6.769559612029926, 8.956997060050208]\n"
          ]
        }
      ]
    },
    {
      "cell_type": "code",
      "source": [
        "data = open_file('2.txt')\n",
        "result(data)"
      ],
      "metadata": {
        "colab": {
          "base_uri": "https://localhost:8080/"
        },
        "id": "zdKIUEYjAZ9c",
        "outputId": "db55dd83-5614-41d3-de84-3f2873ede932"
      },
      "execution_count": null,
      "outputs": [
        {
          "output_type": "stream",
          "name": "stdout",
          "text": [
            "Генеральное среднее: 67.36193517742079\n",
            "Среднеквадратичное отклонение 8.281704204558185\n",
            "Доверительный интервал с надежностью 0.95: [62.2288817313582, 72.49498862348338]\n",
            "Доверительный интервал по правилу t-распределения: [61.43744869492957, 73.28642165991201]\n",
            "Доверительный интервал для среднеквадратического отклонения: [5.696442902366447, 15.11913413035418]\n"
          ]
        }
      ]
    },
    {
      "cell_type": "code",
      "source": [
        "data = open_file('3.txt')\n",
        "result(data)"
      ],
      "metadata": {
        "colab": {
          "base_uri": "https://localhost:8080/"
        },
        "id": "ok6LQeOViObL",
        "outputId": "2476dde9-e580-4117-8ad5-e582d19d9b38"
      },
      "execution_count": null,
      "outputs": [
        {
          "output_type": "stream",
          "name": "stdout",
          "text": [
            "Генеральное среднее: 66.21368599328183\n",
            "Среднеквадратичное отклонение 3.0464716292913763\n",
            "Доверительный интервал с надежностью 0.95: [65.61657755394072, 66.81079443262294]\n",
            "Доверительный интервал по правилу t-распределения: [65.60920509259783, 66.81816689396582]\n",
            "Доверительный интервал для среднеквадратического отклонения: [2.674729103776033, 3.539010229908991]\n"
          ]
        }
      ]
    },
    {
      "cell_type": "code",
      "source": [
        "data = open_file('4.txt')\n",
        "result(data)"
      ],
      "metadata": {
        "colab": {
          "base_uri": "https://localhost:8080/"
        },
        "id": "OwtVMStriOhq",
        "outputId": "b0d1097e-34e4-4fcd-d487-e8512c28e703"
      },
      "execution_count": null,
      "outputs": [
        {
          "output_type": "stream",
          "name": "stdout",
          "text": [
            "Генеральное среднее: 23.188352389247406\n",
            "Среднеквадратичное отклонение 7.556413361393362\n",
            "Доверительный интервал с надежностью 0.95: [18.504838865155918, 27.871865913338894]\n",
            "Доверительный интервал по правилу t-распределения: [17.782717545267936, 28.593987233226876]\n",
            "Доверительный интервал для среднеквадратического отклонения: [5.197562747551977, 13.795038356045898]\n"
          ]
        }
      ]
    }
  ]
}